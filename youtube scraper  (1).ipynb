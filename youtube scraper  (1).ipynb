{
 "cells": [
  {
   "cell_type": "code",
   "execution_count": 677,
   "id": "d06b0e29",
   "metadata": {
    "scrolled": false
   },
   "outputs": [],
   "source": [
    "import requests\n",
    "import pandas as pd\n",
    "import time\n",
    "from selenium import webdriver\n",
    "from selenium.webdriver.common.keys import Keys\n",
    "from selenium.webdriver.support.select import Select\n",
    "from selenium.webdriver.support.ui import WebDriverWait\n",
    "from selenium.webdriver.common.by import By\n",
    "from selenium.webdriver.support import expected_conditions as EC\n",
    "from selenium import webdriver\n",
    "import os\n",
    "import pandas as pd\n",
    "import numpy as np\n",
    "import schedule\n",
    "from bs4 import BeautifulSoup"
   ]
  },
  {
   "cell_type": "code",
   "execution_count": 678,
   "id": "a98eed80",
   "metadata": {},
   "outputs": [
    {
     "name": "stderr",
     "output_type": "stream",
     "text": [
      "/var/folders/0d/06ktqgv55b172rscpwsctyl80000gn/T/ipykernel_31270/1781563638.py:3: DeprecationWarning: executable_path has been deprecated, please pass in a Service object\n",
      "  driver = webdriver.Chrome(ChromeDriverManager().install())\n"
     ]
    }
   ],
   "source": [
    "from webdriver_manager.chrome import ChromeDriverManager\n",
    "\n",
    "driver = webdriver.Chrome(ChromeDriverManager().install())"
   ]
  },
  {
   "cell_type": "code",
   "execution_count": 735,
   "id": "35dc8f26",
   "metadata": {},
   "outputs": [],
   "source": [
    "def youtube_search(x):\n",
    "    import requests\n",
    "    import pandas as pd\n",
    "    import time\n",
    "    from selenium import webdriver\n",
    "    from selenium.webdriver.common.keys import Keys\n",
    "    from selenium.webdriver.support.select import Select\n",
    "    from selenium.webdriver.support.ui import WebDriverWait\n",
    "    from selenium.webdriver.common.by import By\n",
    "    from selenium.webdriver.support import expected_conditions as EC\n",
    "    from selenium import webdriver\n",
    "    import os\n",
    "    import pandas as pd\n",
    "    import numpy as np\n",
    "    import schedule\n",
    "    from bs4 import BeautifulSoup\n",
    "    from webdriver_manager.chrome import ChromeDriverManager\n",
    "    driver = webdriver.Chrome(ChromeDriverManager().install())\n",
    "    driver.get('https://www.youtube.com')\n",
    "    driver.implicitly_wait(10)\n",
    "    time.sleep(4)\n",
    "    search = driver.find_element(By.XPATH, '/html/body/ytd-app/div[1]/div/ytd-masthead/div[3]/div[2]/ytd-searchbox/form/div[1]/div[1]/input')\n",
    "    search.send_keys(x)\n",
    "    search.send_keys(Keys.ENTER) \n",
    "    time.sleep(7)\n",
    "    # save the max scrollHeight of the page\n",
    "    \n",
    "    while True:\n",
    "        scroll_height = 20000\n",
    "        document_height_before = driver.execute_script(\"return document.documentElement.scrollHeight\")\n",
    "        driver.execute_script(f\"window.scrollTo(0, {document_height_before  + scroll_height});\")\n",
    "        time.sleep(4)\n",
    "        document_height_after = driver.execute_script(\"return document.documentElement.scrollHeight\")\n",
    "        if document_height_after == document_height_before:\n",
    "            break\n",
    "        else:\n",
    "            continue\n",
    "    time.sleep(15)\n",
    "    Titles = driver.find_elements(By.CSS_SELECTOR,'#video-title > yt-formatted-string')\n",
    "    #for i in Titles:\n",
    "        #print(i.text)\n",
    "    #print(len(Titles))\n",
    "    Title = []\n",
    "    for x in Titles:\n",
    "        Title.append(x.text)\n",
    "    All = driver.find_elements(By.ID,'video-title')\n",
    "    link=[]\n",
    "    for i in All:\n",
    "        if i.get_attribute('href')!=None:\n",
    "            link.append(i.get_property('href'))\n",
    "    title = list(Title)\n",
    "    Link = list(link)\n",
    "    Library = pd.DataFrame(Link, title)\n",
    "    Library.reset_index(inplace = True)\n",
    "    Library.rename(columns={'index':'Title', 0:'link'}, inplace=True)\n",
    "    \n",
    "    return Library\n",
    "    driver.close()\n",
    "    driver.quit()\n",
    "   \n",
    "    \n",
    "    "
   ]
  },
  {
   "cell_type": "code",
   "execution_count": null,
   "id": "043366b2",
   "metadata": {},
   "outputs": [
    {
     "name": "stderr",
     "output_type": "stream",
     "text": [
      "/var/folders/0d/06ktqgv55b172rscpwsctyl80000gn/T/ipykernel_31270/139968532.py:18: DeprecationWarning: executable_path has been deprecated, please pass in a Service object\n",
      "  driver = webdriver.Chrome(ChromeDriverManager().install())\n"
     ]
    }
   ],
   "source": [
    "youtube_search('Nirvana')"
   ]
  },
  {
   "cell_type": "code",
   "execution_count": null,
   "id": "deb942fa",
   "metadata": {},
   "outputs": [],
   "source": []
  }
 ],
 "metadata": {
  "celltoolbar": "Raw Cell Format",
  "kernelspec": {
   "display_name": "Python 3 (ipykernel)",
   "language": "python",
   "name": "python3"
  },
  "language_info": {
   "codemirror_mode": {
    "name": "ipython",
    "version": 3
   },
   "file_extension": ".py",
   "mimetype": "text/x-python",
   "name": "python",
   "nbconvert_exporter": "python",
   "pygments_lexer": "ipython3",
   "version": "3.9.12"
  }
 },
 "nbformat": 4,
 "nbformat_minor": 5
}
